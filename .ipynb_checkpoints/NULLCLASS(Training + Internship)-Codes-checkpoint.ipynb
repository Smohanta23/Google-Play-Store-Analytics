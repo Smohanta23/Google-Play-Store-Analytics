{
 "cells": [
  {
   "cell_type": "markdown",
   "id": "8b46c26a",
   "metadata": {},
   "source": [
    "### NULLCLASS Training Codes (December, 2024)"
   ]
  },
  {
   "cell_type": "code",
   "execution_count": null,
   "id": "4e9df4d6",
   "metadata": {},
   "outputs": [],
   "source": [
    "# Importing required libraries\n",
    "import pandas as pd\n",
    "import numpy as np\n",
    "import plotly.express as px\n",
    "import plotly.io as pio\n",
    "from sklearn.model_selection import train_test_split\n",
    "from sklearn.ensemble import RandomForestRegressor\n",
    "from sklearn.metrics import mean_squared_error, r2_score\n",
    "from nltk.sentiment.vader import SentimentIntensityAnalyzer\n",
    "import nltk\n",
    "import webbrowser\n",
    "import os"
   ]
  },
  {
   "cell_type": "code",
   "execution_count": null,
   "id": "91ada094",
   "metadata": {},
   "outputs": [],
   "source": [
    "# Downloading NLTK's VADER lexicon for sentiment analysis\n",
    "nltk.download('vader_lexicon')"
   ]
  },
  {
   "cell_type": "markdown",
   "id": "0e235c45",
   "metadata": {},
   "source": [
    "### **Step 1: Data Loading**"
   ]
  },
  {
   "cell_type": "code",
   "execution_count": null,
   "id": "a7bb67ab",
   "metadata": {},
   "outputs": [],
   "source": [
    "# Reading the datasets\n",
    "apps=pd.read_csv('Play Store Data.csv')\n",
    "reviews=pd.read_csv('User Reviews.csv')"
   ]
  },
  {
   "cell_type": "code",
   "execution_count": null,
   "id": "cfa640da",
   "metadata": {},
   "outputs": [],
   "source": [
    "apps.head()"
   ]
  },
  {
   "cell_type": "code",
   "execution_count": null,
   "id": "4fefd51d",
   "metadata": {},
   "outputs": [],
   "source": [
    "reviews.head()"
   ]
  },
  {
   "cell_type": "code",
   "execution_count": null,
   "id": "6bcc0499",
   "metadata": {},
   "outputs": [],
   "source": [
    " apps.info()"
   ]
  },
  {
   "cell_type": "code",
   "execution_count": null,
   "id": "1ff6dd6f",
   "metadata": {},
   "outputs": [],
   "source": [
    "reviews.info()"
   ]
  },
  {
   "cell_type": "markdown",
   "id": "e0d67749",
   "metadata": {},
   "source": [
    "### **Step 2: Initial Data Inspection**"
   ]
  },
  {
   "cell_type": "code",
   "execution_count": null,
   "id": "f22bd161",
   "metadata": {},
   "outputs": [],
   "source": [
    "# Checking for missing values in the datasets\n",
    "print(\"Missing values in 'apps' dataset:\")\n",
    "print(apps.isnull().sum())\n",
    "print(\"\\nMissing values in 'reviews' dataset:\")\n",
    "print(reviews.isnull().sum())"
   ]
  },
  {
   "cell_type": "markdown",
   "id": "93f6cf07",
   "metadata": {},
   "source": [
    "### **Step 3: Data Cleaning**"
   ]
  },
  {
   "cell_type": "code",
   "execution_count": null,
   "id": "e059516a",
   "metadata": {},
   "outputs": [],
   "source": [
    "# Dropping rows with missing ratings and duplicates\n",
    "apps= apps.dropna(subset=['Rating'])\n",
    "\n",
    "# Filling missing values with the mode (most frequent value) for each column\n",
    "for column in apps.columns :\n",
    "    \n",
    "    apps[column].fillna(apps[column].mode() [0], inplace=True)\n",
    "    \n",
    "apps.drop_duplicates(inplace=True)\n",
    "\n",
    "# Removing invalid ratings (greater than 5)\n",
    "apps=apps[apps['Rating']<=5]\n",
    "\n",
    "# Dropping rows with missing reviews in the 'reviews' dataset\n",
    "reviews.dropna(subset=['Translated_Review'], inplace=True)"
   ]
  },
  {
   "cell_type": "code",
   "execution_count": null,
   "id": "31016eae",
   "metadata": {},
   "outputs": [],
   "source": [
    "#Converting the Installs columns to numeric by removing commas and + \n",
    "apps['Installs']=apps['Installs'].str.replace(',','').str.replace('+','').astype(int)\n",
    "\n",
    "#Converting Price column to numeric after removing $ \n",
    "apps['Price']=apps[ 'Price'].str.replace('$','').astype(float)"
   ]
  },
  {
   "cell_type": "code",
   "execution_count": null,
   "id": "7d215e96",
   "metadata": {},
   "outputs": [],
   "source": [
    "apps.info()"
   ]
  },
  {
   "cell_type": "code",
   "execution_count": null,
   "id": "1e9ef410",
   "metadata": {},
   "outputs": [],
   "source": [
    "#combining the apps and reviews dataset into one for easier analysis\n",
    "combined_data=pd.merge(apps,reviews,on=\"App\",how=\"inner\")\n",
    "combined_data.head()"
   ]
  },
  {
   "cell_type": "code",
   "execution_count": null,
   "id": "215dfe9b",
   "metadata": {
    "scrolled": true
   },
   "outputs": [],
   "source": [
    "# Function to convert 'Size' column to a uniform numeric format (MB)\n",
    "def convert_size(size):\n",
    "    if 'M' in size:\n",
    "        return float(size.replace('M',''))\n",
    "    elif 'k' in size:\n",
    "        return float(size.replace('k',''))/1024\n",
    "    else:\n",
    "        return np.nan\n",
    "apps['Size']=apps['Size'].apply(convert_size)\n",
    "apps"
   ]
  },
  {
   "cell_type": "markdown",
   "id": "20aa8f4d",
   "metadata": {},
   "source": [
    "### **Step 4: Feature Engineering**"
   ]
  },
  {
   "cell_type": "code",
   "execution_count": null,
   "id": "8d573f9f",
   "metadata": {},
   "outputs": [],
   "source": [
    "# Adding log-transformed features for better scaling in visualizations\n",
    "apps['Log_Installs']=np.log(apps['Installs'])\n",
    "apps['Reviews']=apps['Reviews'].astype(int)\n",
    "apps['Log_Reviews']=np.log(apps['Reviews'])"
   ]
  },
  {
   "cell_type": "code",
   "execution_count": null,
   "id": "88e611cc",
   "metadata": {},
   "outputs": [],
   "source": [
    "apps.info()"
   ]
  },
  {
   "cell_type": "code",
   "execution_count": null,
   "id": "67885837",
   "metadata": {
    "scrolled": true
   },
   "outputs": [],
   "source": [
    "# Calculating estimated revenue for apps\n",
    "apps['Revenue']=apps['Price']*apps['Installs']\n",
    "apps"
   ]
  },
  {
   "cell_type": "markdown",
   "id": "1b334a6a",
   "metadata": {},
   "source": [
    "### **Step 5: Sentiment Analysis**"
   ]
  },
  {
   "cell_type": "code",
   "execution_count": null,
   "id": "4f447d97",
   "metadata": {},
   "outputs": [],
   "source": [
    "#To measure polarity scores of any sentence or analyze the positive/negative intensity of any sentence\n",
    "sia=SentimentIntensityAnalyzer()"
   ]
  },
  {
   "cell_type": "code",
   "execution_count": null,
   "id": "0597c993",
   "metadata": {},
   "outputs": [],
   "source": [
    "# Using VADER for sentiment score computation\n",
    "reviews['Sentiment Score']=reviews['Translated_Review'].apply(lambda x: sia.polarity_scores(str(x))['compound'])\n",
    "reviews.head()"
   ]
  },
  {
   "cell_type": "code",
   "execution_count": null,
   "id": "d14193a8",
   "metadata": {
    "scrolled": true
   },
   "outputs": [],
   "source": [
    "# Adding Time-Based Features\n",
    "# Converting 'Last Updated' to datetime format and extracting the year\n",
    "apps['Last Updated']=pd.to_datetime(apps['Last Updated'])\n",
    "\n",
    "apps['Year']=apps['Last Updated'].dt.year\n",
    "apps"
   ]
  },
  {
   "cell_type": "markdown",
   "id": "25165e72",
   "metadata": {},
   "source": [
    "### **Step 6: Data Visualization Setup**"
   ]
  },
  {
   "cell_type": "code",
   "execution_count": null,
   "id": "9fa63d02",
   "metadata": {},
   "outputs": [],
   "source": [
    "# Directory for saving HTML plots\n",
    "html_files_path=\"./\"\n",
    "if not os.path.exists(html_files_path): \n",
    "    os.makedirs(html_files_path)"
   ]
  },
  {
   "cell_type": "code",
   "execution_count": null,
   "id": "a42f0856",
   "metadata": {},
   "outputs": [],
   "source": [
    "# Global container for all plots and insights\n",
    "plot_containers=\"\""
   ]
  },
  {
   "cell_type": "code",
   "execution_count": null,
   "id": "9a00db9e",
   "metadata": {},
   "outputs": [],
   "source": [
    "# Function to save Plotly figures as interactive HTML files\n",
    "\n",
    "def save_plot_as_html(fig, filename, insight):\n",
    "    global plot_containers \n",
    "    filepath=os.path.join(html_files_path, filename)\n",
    "    \n",
    "    # Converting the figure to HTML content\n",
    "    html_content = pio.to_html(fig, full_html=False, include_plotlyjs='inline')\n",
    "\n",
    "    # Appending the plot and its insight to plot_containers\n",
    "    plot_containers += f\"\"\"\n",
    "    <div class=\"plot-container\" id=\"(filename)\" onclick=\"openPlot('{filename}')\">\n",
    "        <div class=\"plot\">{html_content}</div>\n",
    "        <div class=\"insights\">{insight}</div>\n",
    "    </div>\n",
    "    \"\"\"\n",
    "    fig.write_html (filepath, full_html=False, include_plotlyjs='inline')"
   ]
  },
  {
   "cell_type": "code",
   "execution_count": null,
   "id": "9b1abd45",
   "metadata": {},
   "outputs": [],
   "source": [
    "# Visualization layout configuration\n",
    "plot_width=1200\n",
    "plot_height=570\n",
    "plot_bg_color='black'\n",
    "text_color= 'white'\n",
    "title_font={'size':16}\n",
    "axis_font={'size':12}"
   ]
  },
  {
   "cell_type": "markdown",
   "id": "5cf46528",
   "metadata": {},
   "source": [
    "### Step 7: Using Plotly to built various types of graphs (demonstration) "
   ]
  },
  {
   "cell_type": "code",
   "execution_count": null,
   "id": "68cd0601",
   "metadata": {},
   "outputs": [],
   "source": [
    "#Figure 1\n",
    "\n",
    "category_counts=apps['Category'].value_counts().nlargest(10)\n",
    "\n",
    "fig1=px.bar(\n",
    "    x=category_counts.index,\n",
    "    y=category_counts.values,\n",
    "    labels={'x': 'Category','y': 'Count'},\n",
    "    title='Top Categories on Play Store',\n",
    "    color=category_counts.index,\n",
    "    color_discrete_sequence=px.colors.sequential.Plasma,\n",
    "    width=1200,\n",
    "    height=570\n",
    ")\n",
    "\n",
    "fig1.update_layout(\n",
    "\n",
    "    plot_bgcolor=\"black\",\n",
    "    paper_bgcolor=\"black\",\n",
    "    font_color=\"white\",\n",
    "    title_font={'size':16},\n",
    "    xaxis= dict(title_font={'size':12}),\n",
    "    yaxis=dict(title_font={'size':12}),\n",
    "    margin=dict(l=10, r=10, t=30, b=10) \n",
    ")\n",
    "\n",
    "#figl.update_traces(marker=dict(pattern=dict(line=dict(color='white', width=1))))\n",
    "save_plot_as_html (fig1, \"Category Graph 1.html\", \"The top categories on the Play Store are dominated by tools, entertainment, and productivity apps\")"
   ]
  },
  {
   "cell_type": "code",
   "execution_count": null,
   "id": "fe15ca39",
   "metadata": {},
   "outputs": [],
   "source": [
    "#Figure 2\n",
    "\n",
    "type_counts=apps['Type'].value_counts()\n",
    "\n",
    "fig2=px.pie(\n",
    "\n",
    "    values=type_counts.values,\n",
    "    names=type_counts.index,\n",
    "    title='App Type Distribution',\n",
    "    color_discrete_sequence=px.colors.sequential.RdBu,\n",
    "    width=1200,\n",
    "    height=570\n",
    ")\n",
    "\n",
    "fig2.update_layout(\n",
    "\n",
    "    plot_bgcolor=\"black\",\n",
    "    paper_bgcolor='black',\n",
    "    font_color= 'white',\n",
    "    title_font={\"size\":16},\n",
    "    margin=dict(l=10, r=10, t=30,b=10)\n",
    ")\n",
    "\n",
    "#fig2.update_traces(marker=dict(pattern=dict(line=dict(color='white', width=1))))\n",
    "save_plot_as_html (fig2, \"Type Graph 2.html\", \"Most apps on the Playstore are free, indicating a strategy to attract users first and monetize through ads or in app purchases\")"
   ]
  },
  {
   "cell_type": "code",
   "execution_count": null,
   "id": "56080c65",
   "metadata": {},
   "outputs": [],
   "source": [
    "#Figure 3\n",
    "\n",
    "fig3=px.histogram(\n",
    "\n",
    "    apps,\n",
    "    x='Rating',\n",
    "    nbins=20,\n",
    "    title='Rating Distribution',\n",
    "    color_discrete_sequence=['#636EFA'],\n",
    "    width=1200,\n",
    "    height=570\n",
    ")\n",
    "\n",
    "fig3.update_layout(\n",
    "\n",
    "    plot_bgcolor='black',\n",
    "    paper_bgcolor=\"black\",\n",
    "    font_color=\"white\",\n",
    "    title_font={'size':16},\n",
    "    xaxis=dict(title_font={'size':12}),\n",
    "    yaxis=dict(title_font={'size':12}),\n",
    "    margin=dict(l=10, r=10, t=30, b=10)\n",
    "\n",
    ")\n",
    "\n",
    "#fig3.update_traces (marker=dict(pattern=dict(Line=dict(color='white', width=1))))\n",
    "save_plot_as_html(fig3, \"Rating Graph 3.html\", \"Ratings are skewed towards higher values, suggesting that most apps are rated favorably by users\")"
   ]
  },
  {
   "cell_type": "code",
   "execution_count": null,
   "id": "7c69e190",
   "metadata": {},
   "outputs": [],
   "source": [
    "#Figure4\n",
    "sentiment_counts=reviews['Sentiment Score'].value_counts()\n",
    "\n",
    "fig4=px.bar(\n",
    "    x=sentiment_counts.index,\n",
    "    y=sentiment_counts.values,\n",
    "    labels={'x': \"Sentiment Score\", 'y': \"Count\"},\n",
    "    title='Sentiment Distribution',\n",
    "    color=sentiment_counts.index,\n",
    "    color_discrete_sequence=px.colors.sequential.RdPu,\n",
    "    width=1200,\n",
    "    height=570\n",
    "\n",
    ")\n",
    "\n",
    "fig4.update_layout(\n",
    "\n",
    "    plot_bgcolor=\"black\",\n",
    "    paper_bgcolor=\"black\",\n",
    "    font_color=\"white\",\n",
    "    title_font={\"size\":16},\n",
    "    xaxis=dict(title_font={'size':12}),\n",
    "    yaxis=dict(title_font={'size':12}),\n",
    "    margin=dict(l=10, r=10, t=30,b=10)\n",
    ")\n",
    "\n",
    "#fig4.update traces (marker-dict(pattern-dict(line-dict(color=\"white\", width-1))))\n",
    "save_plot_as_html(fig4, \"Sentiment Graph 4.html\", \"Sentiments in reviews show a mix of positive and negative feedback, with a slight lean towards positive sentiments\")"
   ]
  },
  {
   "cell_type": "code",
   "execution_count": null,
   "id": "d8313bba",
   "metadata": {},
   "outputs": [],
   "source": [
    "#Figure 5\n",
    "\n",
    "installs_by_category=apps.groupby('Category') ['Installs'].sum().nlargest(10)\n",
    "\n",
    "fig5=px.bar(\n",
    "\n",
    "    x=installs_by_category.index,\n",
    "    y=installs_by_category.values,\n",
    "    orientation=\"h\",\n",
    "    labels={'x': 'Installs','y': 'Category'},\n",
    "    title='Installs by Category',\n",
    "    color=installs_by_category.index,\n",
    "    color_discrete_sequence=px.colors.sequential.Blues,\n",
    "    width=1200,\n",
    "    height=570\n",
    ")\n",
    "\n",
    "fig5.update_layout(\n",
    "\n",
    "    plot_bgcolor='black',\n",
    "    paper_bgcolor='black',\n",
    "    font_color=\"white\",\n",
    "    title_font={'size':16},\n",
    "    xaxis=dict(title_font={'size':12}),\n",
    "    yaxis=dict(title_font={'size':12}),\n",
    "    margin=dict(l=10, r=10, t=30, b=10)\n",
    ")\n",
    "\n",
    "#fig5.update_traces (marker-dict(pattern-dict(Line-dict(color='white', width=1))))\n",
    "save_plot_as_html(fig5, \"Installs Graph 5.html\", \"The categories with the most installs are social and communication apps, reflecting their broad appeal and daily usgae\")"
   ]
  },
  {
   "cell_type": "code",
   "execution_count": null,
   "id": "74675317",
   "metadata": {},
   "outputs": [],
   "source": [
    "# Updates Per Year Plot\n",
    "\n",
    "updates_per_year = apps[ 'Last Updated'].dt.year.value_counts().sort_index()\n",
    "\n",
    "fig6=px.line(\n",
    "\n",
    "    x=updates_per_year.index,\n",
    "    y=updates_per_year.values, labels={'x': 'Year', 'y': 'Number of Updates'},\n",
    "    title='Number of Updates Over the Years',\n",
    "    color_discrete_sequence=['#AB63FA'],\n",
    "    width=1200,\n",
    "    height=570\n",
    ")\n",
    "\n",
    "fig6.update_layout(\n",
    "\n",
    "    plot_bgcolor=plot_bg_color,\n",
    "    paper_bgcolor=plot_bg_color,\n",
    "    font_color=text_color,\n",
    "    title_font=title_font,\n",
    "    xaxis=dict(title_font=axis_font),\n",
    "    yaxis=dict(title_font=axis_font),\n",
    "    margin=dict(l=10, r=10, t=30, b=10)\n",
    "\n",
    ")\n",
    "\n",
    "save_plot_as_html(fig6, \"updates_per_year 6.html\", \"Updates have been increasing over the years, showing that developers are actively maintaining and improving their apps\")"
   ]
  },
  {
   "cell_type": "code",
   "execution_count": null,
   "id": "cbb9dace",
   "metadata": {},
   "outputs": [],
   "source": [
    "#Figure 7\n",
    "\n",
    "revenue_by_category=apps.groupby('Category') ['Revenue'].sum().nlargest (10)\n",
    "\n",
    "fig7=px.bar(\n",
    "\n",
    "    x=installs_by_category.index,\n",
    "    y=installs_by_category.values,\n",
    "    labels={'x': 'Category','y': 'Revenue'},\n",
    "    title=\"Revenue by Category\",\n",
    "    color= installs_by_category.index,\n",
    "    color_discrete_sequence=px.colors.sequential.Greens,\n",
    "    width=1200,\n",
    "    height=570\n",
    ")\n",
    "\n",
    "fig7.update_layout(\n",
    "\n",
    "    plot_bgcolor=\"black\",\n",
    "    paper_bgcolor=\"black\",\n",
    "    font_color=\"white\",\n",
    "    title_font={'size':16},\n",
    "    xaxis=dict(title_font={\"size\":12}),\n",
    "    yaxis=dict(title_font={'size':12}),\n",
    "    margin=dict( l = 18 ,r = 10 ,t = 3 , b = 10 )\n",
    "\n",
    ")\n",
    "#fig.7update_traces (marker=dict(pattern=dict(line=dict(color=\"white\", width=1))))\n",
    "\n",
    "save_plot_as_html(fig7, \"Revenue Graph 7.html\", \"Categories such as Business and Productivity lead in revenue generation, indicating their monetization potential\")"
   ]
  },
  {
   "cell_type": "code",
   "execution_count": null,
   "id": "5c7c2092",
   "metadata": {},
   "outputs": [],
   "source": [
    "#Figure 8\n",
    "\n",
    "genre_counts=apps['Genres'].str.split(';', expand=True).stack().value_counts().nlargest(10)\n",
    "\n",
    "fig8=px.bar(\n",
    "\n",
    "    x=genre_counts.index,\n",
    "    y=genre_counts.values,\n",
    "    labels={'x': 'Genre','y': 'Count'},\n",
    "    title='Top Genres',\n",
    "    color=installs_by_category.index,\n",
    "    color_discrete_sequence=px.colors.sequential.OrRd,\n",
    "    width=1200,\n",
    "    height=570\n",
    ")\n",
    "\n",
    "fig8.update_layout(\n",
    "\n",
    "    plot_bgcolor='black',\n",
    "    paper_bgcolor=\"black\",\n",
    "    font_color=\"white\",\n",
    "    title_font={'size':16},\n",
    "    xaxis=dict(title_font={'size':12}), \n",
    "    yaxis=dict(title_font={'size':12}),\n",
    "    margin=dict(l=10,r=10,t=30,b=10)\n",
    ")\n",
    "                                                        \n",
    "\n",
    "#fig8.update_traces(marker=dict(pattern=dict(Line=dict(color=\"white\", width-1))))\n",
    "save_plot_as_html(fig8,\"Genre Graph 8.html\", \"Action and Casual genres are the most common, reflecting users' preference for engaging and easy-to-play games\")"
   ]
  },
  {
   "cell_type": "code",
   "execution_count": null,
   "id": "cf08a15c",
   "metadata": {},
   "outputs": [],
   "source": [
    "#Figure 9\n",
    "\n",
    "fig9=px.scatter(\n",
    "\n",
    "    apps,\n",
    "    x= 'Last Updated',\n",
    "    y='Rating',\n",
    "    color='Type',\n",
    "    title='Impact of Last Update on Rating',\n",
    "    color_discrete_sequence=px.colors.qualitative.Vivid,\n",
    "    width=1200,\n",
    "    height=570\n",
    ")\n",
    "\n",
    "fig9.update_layout(\n",
    "\n",
    "    plot_bgcolor='black',\n",
    "    paper_bgcolor=\"black\",\n",
    "    font_color=\"white\",\n",
    "    title_font={'size':16},\n",
    "    xaxis=dict(title_font={'size':12}),\n",
    "    yaxis=dict(title_font={'size':12}),\n",
    "    margin=dict(l=10, r=10, t=30,b=10)\n",
    "\n",
    ")\n",
    "\n",
    "#fig9.update_traces (marker=dict(pattern=dict(line=dict(color=\"white\", width=1))))\n",
    "save_plot_as_html(fig9, \"Update Graph 9.html\", \"The Scatter Plot shows a weak correlation between the last update and ratings, suggesting that more frequent updates dont always result in better ratings\")"
   ]
  },
  {
   "cell_type": "code",
   "execution_count": null,
   "id": "db3bf3b4",
   "metadata": {},
   "outputs": [],
   "source": [
    "#Figure 10\n",
    "\n",
    "fig10=px.box(\n",
    "\n",
    "    apps,\n",
    "    x='Type',\n",
    "    y='Rating',\n",
    "    color='Type',\n",
    "    title='Rating for Paid vs Free Apps',\n",
    "    color_discrete_sequence=px.colors.qualitative.Pastel,\n",
    "    width=1200,\n",
    "    height=570\n",
    ")\n",
    "\n",
    "fig10.update_layout (\n",
    "\n",
    "    plot_bgcolor='black',\n",
    "    paper_bgcolor=\"black\",\n",
    "    font_color=\"white\",\n",
    "    title_font={'size':16},\n",
    "    xaxis=dict(title_font={'size':12}),\n",
    "    yaxis=dict(title_font={'size':12}),\n",
    "    margin=dict(l=10, r=10,t=30,b=10)\n",
    "\n",
    ")\n",
    "\n",
    "#fig10.update_traces (marker-dict(pattern-dict(line-dict(color-'white', width-1))))\n",
    "save_plot_as_html (fig10, \"Paid Free Graph 10.html\", \"Paid apps generally have higher ratings compared to free apps, suggesting that users expect higher quality from apps they pay for\")"
   ]
  },
  {
   "cell_type": "code",
   "execution_count": null,
   "id": "fff46e42",
   "metadata": {},
   "outputs": [],
   "source": [
    "#Container splitting \n",
    "plot_containers_split=plot_containers.split('</div>')\n",
    "\n",
    "if len(plot_containers_split) > 1:\n",
    "\n",
    "    final_plot=plot_containers_split[-2]+'</div>'\n",
    "\n",
    "else:\n",
    "\n",
    "    final_plot=plot_containers"
   ]
  },
  {
   "cell_type": "markdown",
   "id": "19ca7523",
   "metadata": {},
   "source": [
    "### **Step 8: Generating the Dashboard**"
   ]
  },
  {
   "cell_type": "code",
   "execution_count": null,
   "id": "3e348d91",
   "metadata": {},
   "outputs": [],
   "source": [
    "dashboard_html = \"\"\"\n",
    "<!DOCTYPE html>\n",
    "<html lang=\"en\">\n",
    "<head>\n",
    "    <meta charset=\"UTF-8\">\n",
    "    <meta name=\"viewport\" content=\"width=device-width, initial-scale=1.0\">\n",
    "    <title>Google Play Store Review Analytics</title>\n",
    "    <style>\n",
    "        body {{\n",
    "            font-family: Arial, sans-serif;\n",
    "            background-color: #333;\n",
    "            color: #fff;\n",
    "            margin: 0;\n",
    "            padding: 0;\n",
    "        }}\n",
    "        .header {{\n",
    "            display: flex;\n",
    "            align-items: center;\n",
    "            justify-content: center;\n",
    "            padding: 20px;\n",
    "            background-color: #444;\n",
    "        }}\n",
    "        .header img {{\n",
    "            margin: 0 10px;\n",
    "            height: 50px;\n",
    "        }}\n",
    "        .container {{\n",
    "            display: flex;\n",
    "            flex-wrap: wrap;\n",
    "            justify-content: center;\n",
    "            padding: 20px;\n",
    "        }}\n",
    "        .plot-container {{\n",
    "            border: 2px solid #555;\n",
    "            margin: 10px;\n",
    "            padding: 10px;\n",
    "            width: {plot_width}px;\n",
    "            height: {plot_height}px;\n",
    "            overflow: hidden;\n",
    "            position: relative;\n",
    "            cursor: pointer;\n",
    "        }}\n",
    "        .insights {{\n",
    "            display: none;\n",
    "            position: absolute;\n",
    "            right: 10px;\n",
    "            top: 10px;\n",
    "            background-color: rgba(0,0,0,0.7);\n",
    "            padding: 5px;\n",
    "            border-radius: 5px;\n",
    "            color: #fff;\n",
    "        }}\n",
    "        .plot-container:hover .insights {{\n",
    "            display: block;\n",
    "        }}\n",
    "    </style>\n",
    "    <script>\n",
    "        function openPlot(filename) {{\n",
    "            window.open(filename, '_blank');\n",
    "        }}\n",
    "    </script>\n",
    "</head>\n",
    "<body>\n",
    "    <div class=\"header\">\n",
    "        <img src=\"https://upload.wikimedia.org/wikipedia/commons/thumb/4/4a/Logo_2013_Google.png/800px-Logo_2013_Google.png\" alt=\"Google Logo\">\n",
    "        <h1>Google Play Store Reviews Analytics</h1>\n",
    "        <img src=\"https://upload.wikimedia.org/wikipedia/commons/thumb/7/78/Google_Play_Store_badge_EN.svg/1024px-Google_Play_Store_badge_EN.svg.png\">\n",
    "    </div>\n",
    "    <div class=\"container\">\n",
    "        {plots}\n",
    "    </div>\n",
    "</body>\n",
    "</html>\n",
    "\"\"\""
   ]
  },
  {
   "cell_type": "code",
   "execution_count": null,
   "id": "41a5c81f",
   "metadata": {},
   "outputs": [],
   "source": [
    "# Formatting and saving the dashboard as an HTML file\n",
    "final_html=dashboard_html.format(plots=plot_containers, plot_width=plot_width, plot_height=plot_height)\n",
    "\n",
    "dashboard_path=os.path.join(html_files_path, \"web page.html\")\n",
    "\n",
    "with open(dashboard_path, \"w\", encoding=\"utf-8\") as f:\n",
    "    f.write(final_html)\n",
    "\n",
    "# Opening the dashboard in a browser\n",
    "webbrowser.open('file://'+os.path.realpath(dashboard_path))"
   ]
  },
  {
   "cell_type": "markdown",
   "id": "a9f8ccd4",
   "metadata": {},
   "source": [
    "# -----------------------------------------------------------------------------------------------------------\n",
    "\n",
    "### NULLCLASS INTERNSHIP TASKS (Jan, 2025-June, 2025)"
   ]
  },
  {
   "cell_type": "markdown",
   "id": "230cec78",
   "metadata": {},
   "source": [
    "#### Task 1: Visualisation of Sentiment Distribution"
   ]
  },
  {
   "cell_type": "markdown",
   "id": "92a6c40d",
   "metadata": {},
   "source": [
    "Goal: Using a stacked bar chart to show the sentiment distribution (positive, neutral, and negative) of user reviews by rating group (e.g., 1-2 stars, 3-4 stars, and 4-5 stars).\n",
    "\n",
    "1. Only apps with over 1,000 reviews should be included.\n",
    "2. Sort the data into the top five groups."
   ]
  },
  {
   "cell_type": "code",
   "execution_count": null,
   "id": "c21afac0",
   "metadata": {
    "scrolled": true
   },
   "outputs": [],
   "source": [
    "import plotly.graph_objects as go\n",
    "\n",
    "# Step 1: Filtering the apps with more than 1,000 reviews\n",
    "apps_filtered = apps[apps['Reviews'].astype(int) > 1000]\n",
    "apps_filtered"
   ]
  },
  {
   "cell_type": "code",
   "execution_count": null,
   "id": "ab996951",
   "metadata": {},
   "outputs": [],
   "source": [
    "# Step 2: Selecting the top 5 categories based on the number of apps\n",
    "top_cat = apps_filtered['Category'].value_counts().head(5).index\n",
    "top_cat"
   ]
  },
  {
   "cell_type": "code",
   "execution_count": null,
   "id": "cd7fd47c",
   "metadata": {},
   "outputs": [],
   "source": [
    "apps_top_cat = apps_filtered[apps_filtered['Category'].isin(top_cat)]"
   ]
  },
  {
   "cell_type": "code",
   "execution_count": null,
   "id": "60c0a930",
   "metadata": {
    "scrolled": true
   },
   "outputs": [],
   "source": [
    "# Step 3: Merging the filtered app data and original review data\n",
    "merged_1 = pd.merge(apps_top_cat, reviews, on=\"App\")\n",
    "merged_1"
   ]
  },
  {
   "cell_type": "code",
   "execution_count": null,
   "id": "8563c8a7",
   "metadata": {},
   "outputs": [],
   "source": [
    "    # Step 4: Segmenting ratings into groups\n",
    "    def classify_rating_group(rating):\n",
    "        if 1 <= rating <= 2:\n",
    "            return \"1-2 stars\"\n",
    "        elif 3 <= rating <= 4:\n",
    "            return \"3-4 stars\"\n",
    "        elif 4 < rating <= 5:\n",
    "            return \"4-5 stars\"\n",
    "\n",
    "    merged_1['Rating Group'] = merged_1['Rating'].apply(classify_rating_group)"
   ]
  },
  {
   "cell_type": "code",
   "execution_count": null,
   "id": "fa8120c3",
   "metadata": {},
   "outputs": [],
   "source": [
    "# Counting the number of values in each rating group\n",
    "rating_group_counts = merged_1['Rating Group'].value_counts()\n",
    "print(rating_group_counts)"
   ]
  },
  {
   "cell_type": "code",
   "execution_count": null,
   "id": "7c62dc74",
   "metadata": {},
   "outputs": [],
   "source": [
    "# Step 5: generating the data for stacked bar chart\n",
    "sentiment = (\n",
    "    merged_1.groupby(['Category', 'Rating Group', 'Sentiment'])['Sentiment'].count().unstack(fill_value=0).reset_index() )"
   ]
  },
  {
   "cell_type": "code",
   "execution_count": null,
   "id": "084968a2",
   "metadata": {},
   "outputs": [],
   "source": [
    "# Step 6: Creating the stacked bar chart\n",
    "fig_1 = go.Figure()\n",
    "\n",
    "for s in ['Positive', 'Neutral', 'Negative']:\n",
    "    fig_1.add_trace(go.Bar(\n",
    "        x=sentiment['Rating Group'],\n",
    "        y=sentiment[s],\n",
    "        name=s,\n",
    "        marker=dict(color={'Positive': 'green', 'Neutral': 'gray', 'Negative': 'red'}[s]) ))"
   ]
  },
  {
   "cell_type": "code",
   "execution_count": null,
   "id": "d6e75e39",
   "metadata": {},
   "outputs": [],
   "source": [
    "# Step 7: Customizing the chart\n",
    "fig_1.update_layout(\n",
    "    title=\"Sentiment Distribution by Rating Group (Top 5 Categories)\",\n",
    "    xaxis=dict(title=\"Rating Group\"),\n",
    "    yaxis=dict(title=\"Number of Reviews\"),\n",
    "    barmode='stack',\n",
    "    legend_title=\"Sentiments\",\n",
    "    plot_bgcolor='black',\n",
    "    paper_bgcolor=\"black\",\n",
    "    font_color=\"white\",\n",
    "    \n",
    ")\n",
    "\n",
    "# Step 8: Saving the chart as an HTML file\n",
    "fig_1.write_html(\"sentiment_distribution_dashboard_T1.html\")\n",
    "\n",
    "# Step 10: To Open the dashboard in the browser\n",
    "import webbrowser\n",
    "webbrowser.open(\"sentiment_distribution_dashboard_T1.html\")"
   ]
  },
  {
   "cell_type": "markdown",
   "id": "a058e284",
   "metadata": {},
   "source": [
    "#### Task 2: Creating a Word Cloud for 5-Star Reviews \n",
    "\n",
    "Goal: To create an visually appealing word cloud of the most common keywords in 5-star reviews, omitting:\n",
    "\n",
    "1. Frequently used stopwords, such as \"and,\" \"the\", etc\n",
    "2. app names to guarantee applicability.\n",
    "3. Furthermore, to restrict the reviews to only those from applications that fall under the \"Health & Fitness\" theme."
   ]
  },
  {
   "cell_type": "code",
   "execution_count": null,
   "id": "fd9b9498",
   "metadata": {
    "scrolled": true
   },
   "outputs": [],
   "source": [
    "# Step 1: Filtering the reviews for the \"HEALTH_AND_FITNESS\" category and 5 star ratings\n",
    "\n",
    "health_rev = combined_data[\n",
    "    (combined_data['Category'] == 'HEALTH_AND_FITNESS') &  \n",
    "    (combined_data['Rating'] >= 5) &                      \n",
    "    (combined_data['Translated_Review'].notnull())   \n",
    "]\n",
    "\n",
    "health_rev"
   ]
  },
  {
   "cell_type": "markdown",
   "id": "3351bb6f",
   "metadata": {},
   "source": [
    "#### Above result shows that there are no records for exact 5 star rating in user reviews dataset."
   ]
  },
  {
   "cell_type": "code",
   "execution_count": null,
   "id": "1ba9608b",
   "metadata": {
    "scrolled": true
   },
   "outputs": [],
   "source": [
    "pip install wordcloud"
   ]
  },
  {
   "cell_type": "code",
   "execution_count": null,
   "id": "3fe6db49",
   "metadata": {
    "scrolled": true
   },
   "outputs": [],
   "source": [
    "# Step 2: Combining all reviews into a single text block for word cloud generation\n",
    "from wordcloud import WordCloud, STOPWORDS\n",
    "import matplotlib.pyplot as plt\n",
    "\n",
    "# Defining additional stopwords (common stopwords and app names to be excluded)\n",
    "custom_stopwords = set(STOPWORDS)\n",
    "custom_stopwords.update([\"app\", \"apps\", \"use\", \"using\", \"good\", \"great\", \"fitness\", \"health\", \"work\", \"excellent\", \"well\"])\n",
    "\n",
    "# Combining all reviews into a single text string\n",
    "all_reviews = \" \".join(health_rev['Translated_Review'].dropna())"
   ]
  },
  {
   "cell_type": "code",
   "execution_count": null,
   "id": "1570118c",
   "metadata": {},
   "outputs": [],
   "source": [
    "# Step 3: Generating the word cloud\n",
    "wc = WordCloud(\n",
    "    width=800, \n",
    "    height=400, \n",
    "    background_color='white', \n",
    "    colormap='viridis', \n",
    "    max_words=200\n",
    ").generate(all_reviews)"
   ]
  },
  {
   "cell_type": "markdown",
   "id": "c483cb41",
   "metadata": {},
   "source": [
    "#### Above error result shows that there are no exact 5 star ratings present for reviews. So, the WordCloud generation is not possible"
   ]
  },
  {
   "cell_type": "code",
   "execution_count": null,
   "id": "9768f293",
   "metadata": {},
   "outputs": [],
   "source": [
    "print(combined_data[combined_data['Category'] == 'HEALTH_AND_FITNESS']['Rating'].value_counts())"
   ]
  },
  {
   "cell_type": "markdown",
   "id": "0acf11e6",
   "metadata": {},
   "source": [
    "### For Task-2, exact 5 star rating is not available in the dataset. So, WordCloud is not generated."
   ]
  },
  {
   "cell_type": "markdown",
   "id": "b783c0c1",
   "metadata": {},
   "source": [
    "#### Task 3: Revenue versus. Installs Scatter Plot Visualisation for Paid Apps\n",
    "\n",
    "Goal: To colour-code the points according to app types and add a trendline to show the association between revenue and installs for paid applications only.\n",
    "\n",
    "Steps:\n",
    "1. First filter the apps data for paid apps.\n",
    "2. then, ensure numerical data types for proper visualization.\n",
    "3. Creating an interactive scatter plot with Plotly.\n",
    "4. Adding a trendline to show correlation.\n",
    "5. Saving the plot as an HTML file for web visualization as did earlier."
   ]
  },
  {
   "cell_type": "code",
   "execution_count": null,
   "id": "de368607",
   "metadata": {
    "scrolled": true
   },
   "outputs": [],
   "source": [
    "# Step 1: Filtering the apps data for paid apps only\n",
    "paid_apps = apps[apps['Type'] == \"Paid\"]\n",
    "paid_apps"
   ]
  },
  {
   "cell_type": "code",
   "execution_count": null,
   "id": "2709f14f",
   "metadata": {},
   "outputs": [],
   "source": [
    "#Step 2: Ensuring revenue and installs are numeric for proper visualization\n",
    "paid_apps['Revenue'] = pd.to_numeric(paid_apps['Revenue'], errors='coerce')\n",
    "paid_apps['Installs'] = pd.to_numeric(paid_apps['Installs'], errors='coerce')"
   ]
  },
  {
   "cell_type": "code",
   "execution_count": null,
   "id": "0373a41a",
   "metadata": {},
   "outputs": [],
   "source": [
    "# Step 3: Adding a trendline (using numpy for computation)\n",
    "x = paid_apps['Installs']\n",
    "y = paid_apps['Revenue']\n",
    "coeff = np.polyfit(x, y, 1)  \n",
    "tl = coeff[0] * x + coeff[1]"
   ]
  },
  {
   "cell_type": "code",
   "execution_count": null,
   "id": "a288215d",
   "metadata": {},
   "outputs": [],
   "source": [
    "# Step 4: Creating an interactive scatter plot based on App Categories with Plotly\n",
    "fig_11 = px.scatter(\n",
    "    paid_apps,\n",
    "    x='Installs',\n",
    "    y='Revenue',\n",
    "    color='Category',\n",
    "    title=\"Relationship Between Revenue and Installs for Paid Apps\",\n",
    "    labels={\"Installs\": \"Number of Installs\", \"Revenue\": \"Revenue (in $)\"},\n",
    "    hover_data=['App'],\n",
    "    opacity=0.8,  \n",
    "    template='plotly_dark' \n",
    ")"
   ]
  },
  {
   "cell_type": "code",
   "execution_count": null,
   "id": "affbf85f",
   "metadata": {},
   "outputs": [],
   "source": [
    "# Step 5: Adding the trendline to the plot\n",
    "fig_11.add_scatter(\n",
    "    x=paid_apps['Installs'], \n",
    "    y=tl, \n",
    "    mode='lines', \n",
    "    name='Trendline',\n",
    "    line=dict(color='yellow', width=2)\n",
    ")\n",
    "\n",
    "# Step 6: Customing the layout\n",
    "fig_11.update_layout(\n",
    "    title=\"Relationship Between Revenue and Installs for Paid Apps\",\n",
    "    xaxis=dict(title=\"Number of Installs\", gridcolor='gray'),\n",
    "    yaxis=dict(title=\"Revenue (in $)\", gridcolor='gray'),\n",
    "    legend_title=\"App Categories\",\n",
    "    plot_bgcolor='black',\n",
    "    paper_bgcolor=\"black\",\n",
    "    font_color=\"white\",\n",
    "    title_font=dict(size=18, color=\"white\"),\n",
    "    xaxis_title_font=dict(size=14),\n",
    "    yaxis_title_font=dict(size=14),\n",
    "    legend_title_font=dict(size=14),\n",
    "    legend=dict(font=dict(size=12)) \n",
    ")\n",
    "\n",
    "# Step 7: Saving the interactive plot to an HTML file\n",
    "fig_11.write_html(\"scatter_revenue_vs_installs_paid_apps_T3.html\")\n",
    "\n",
    "# Step 8: To Open the dashboard in the browser\n",
    "import webbrowser\n",
    "webbrowser.open(\"scatter_revenue_vs_installs_paid_apps_T3.html\")"
   ]
  },
  {
   "cell_type": "markdown",
   "id": "f1d95a34",
   "metadata": {},
   "source": [
    "#### Task 4: Global Installs by Category Interactive Choropleth Map\n",
    "Goal: To produce an interactive choropleth map that shows worldwide installs by category under the following circumstances:\n",
    "\n",
    "1. Display only the statistics for the top five app categories according to the number of installs.\n",
    "2. Remove app categories where there are fewer than one million installs and the initial characters of app categories are A, C, G, or S.\n",
    "3. Verify that the graph is only visible from 6 to 8 p.m. IST.\n"
   ]
  },
  {
   "cell_type": "code",
   "execution_count": null,
   "id": "c0381c0d",
   "metadata": {
    "scrolled": true
   },
   "outputs": [],
   "source": [
    "from datetime import datetime, time\n",
    "\n",
    "# Filtering top 5 categories based on total installs \n",
    "top_cat = apps.groupby('Category')['Installs'].sum().nlargest(5).index\n",
    "\n",
    "# Taking out those top data\n",
    "filtered_data_1 = apps[apps['Category'].isin(top_cat)]\n",
    "filtered_data_1"
   ]
  },
  {
   "cell_type": "code",
   "execution_count": null,
   "id": "f8976e70",
   "metadata": {
    "scrolled": true
   },
   "outputs": [],
   "source": [
    "# Filtering further where there are fewer than one million installs and the initial characters of app categories are A, C, G, or S.\n",
    "filtered_data = filtered_data_1[\n",
    "    (filtered_data_1['Installs'] > 1_000_000) & (~filtered_data_1['Category'].str.startswith(('A', 'C', 'G', 'S')))]  # '~' denotes no to include those particular data\n",
    "\n",
    "filtered_data"
   ]
  },
  {
   "cell_type": "markdown",
   "id": "1a8e1ee2",
   "metadata": {},
   "source": [
    "### Now, for the px.choropleth function to work, it is necessary to have a Country column (or equivalent geographical data) in order to make it run and work.\n",
    "1. The apps dataset does not contain any column named Country. To create the choropleth map, we need to introduce a column that specifies countries corresponding to the data.\n",
    "2. To solve which, we are adding/generating some random country data based on real world Google Play Store usage in top countries."
   ]
  },
  {
   "cell_type": "code",
   "execution_count": null,
   "id": "899a77cc",
   "metadata": {},
   "outputs": [],
   "source": [
    "#To guarantee that the graph is displayed only between 6 and 8 PM IST, logic is being added. \n",
    "#To get the current time and conditionally display the map, we are useing Python's datetime function.\n",
    "\n",
    "start_time = time(18, 0) \n",
    "end_time = time(20, 0)"
   ]
  },
  {
   "cell_type": "code",
   "execution_count": null,
   "id": "a474c4bd",
   "metadata": {},
   "outputs": [],
   "source": [
    "# Getting the current time in IST\n",
    "current_time_utc = datetime.utcnow()\n",
    "current_time_ist = (current_time_utc + pd.Timedelta(hours=5, minutes=30)).time()"
   ]
  },
  {
   "cell_type": "code",
   "execution_count": null,
   "id": "054f0750",
   "metadata": {
    "scrolled": true
   },
   "outputs": [],
   "source": [
    "# Listing the top countries where Google Play Store is used these days\n",
    "filtered_data['Country'] = np.random.choice(\n",
    "    [\"United States\", \"India\", \"Germany\", \"Brazil\", \"Australia\", \"Indonesia\", \"Russia\",\n",
    "    \"China\", \"Canada\", \"United Kingdom\", \"France\", \"Japan\", \"South Africa\", \"Mexico\",\n",
    "    \"Italy\", \"South Korea\", \"Spain\", \"Turkey\", \"Argentina\", \"Saudi Arabia\", \"Netherlands\",\n",
    "    \"Sweden\", \"Norway\", \"Poland\", \"Thailand\", \"Philippines\", \"Vietnam\", \"Pakistan\",\n",
    "    \"New Zealand\", \"Egypt\", \"Malaysia\", \"Bangladesh\", \"Nigeria\", \"Kenya\", \"Chile\",\n",
    "    \"Colombia\", \"Venezuela\", \"Peru\", \"Portugal\", \"Ireland\", \"Greece\", \"Switzerland\",\n",
    "    \"Denmark\", \"Finland\", \"Belgium\", \"Austria\", \"Czech Republic\", \"Hungary\", \"Romania\",\n",
    "    \"Ukraine\", \"Slovakia\", \"Bulgaria\", \"Croatia\", \"Slovenia\", \"Serbia\", \"Kazakhstan\",\n",
    "    \"Uzbekistan\", \"Morocco\", \"Algeria\", \"Tunisia\", \"Angola\", \"Ethiopia\", \"Tanzania\",\n",
    "    \"Uganda\", \"Zambia\", \"Zimbabwe\", \"Mozambique\", \"Botswana\", \"Ghana\", \"Ivory Coast\",\n",
    "    \"Cameroon\", \"Senegal\", \"Cuba\", \"Jamaica\", \"Haiti\", \"Dominican Republic\", \"Panama\",\n",
    "    \"Ecuador\", \"Bolivia\", \"Paraguay\", \"Uruguay\", \"Qatar\", \"United Arab Emirates\",\n",
    "    \"Oman\", \"Kuwait\", \"Jordan\", \"Lebanon\", \"Sri Lanka\", \"Nepal\", \"Maldives\", \"Iraq\",\n",
    "    \"Iran\", \"Afghanistan\"], size=len(filtered_data)\n",
    ")\n",
    "filtered_data"
   ]
  },
  {
   "cell_type": "code",
   "execution_count": null,
   "id": "3075f874",
   "metadata": {},
   "outputs": [],
   "source": [
    "# Only proceeding with generating the graph if the time is within the specified range\n",
    "if start_time <= current_time_ist <= end_time:\n",
    "    # Creating the choropleth map\n",
    "    fig_12 = px.choropleth(\n",
    "        filtered_data,\n",
    "        locations='Country',  # Column containing country names\n",
    "        locationmode='country names',  # To match country names with Plotly's geographical embeddings.\n",
    "        color='Installs',  # Coloring by the number of installs\n",
    "        hover_name='Category',  # Showing app category on hover\n",
    "        title=\"Global Installs by App Categories (Filtered)\",\n",
    "        color_continuous_scale='Viridis'\n",
    "    )\n",
    "    \n",
    "    # Saving the map as an HTML file\n",
    "    fig_12.write_html(\"interactive_choropleth_map_T4.html\")\n",
    "\n",
    "    # Opening the HTML file in the browser\n",
    "    webbrowser.open(\"interactive_choropleth_map_T4.html\")\n",
    "else:\n",
    "    print(\"Graph is not available outside the time range (6 PM - 8 PM IST).\")"
   ]
  },
  {
   "cell_type": "markdown",
   "id": "bc331856",
   "metadata": {},
   "source": [
    "#### Task 5: Time-Limited Dual-Axis Chart for Average Installs vs Revenue (Free vs Paid Apps)\n",
    "\n",
    "Goal: To filter data according to-\n",
    "\n",
    "1. Installations: Over 10,000.\n",
    "2. Revenue: Over $10,000.\n",
    "3. Version of Android: Over 4.0.\n",
    "4. Dimensions: Over 15 meters.\n",
    "5. The content should be rated as \"Everyone.\"\n",
    "6. The length of the app name, including spaces and special characters, should not be more than 30 characters.\n",
    "\n",
    "Within the top three app categories, we have to compare the average income and installs of free versus premium apps.\n",
    "\n",
    "To make a dual-axis chart with a line for installs and a bar for revenue.\n",
    "\n",
    "Making sure the chart only functions from 1:00 PM to 2:00 PM IST. The chart shouldn't show up on the dashboard outside of this time frame."
   ]
  },
  {
   "cell_type": "code",
   "execution_count": null,
   "id": "0e86c0d5",
   "metadata": {
    "scrolled": true
   },
   "outputs": [],
   "source": [
    "import plotly.graph_objects as go\n",
    "\n",
    "# -------------------- Data Filtering --------------------\n",
    "# Filter 1: Apps with installs > 10,000\n",
    "filtered_apps = apps[apps['Installs'] > 10_000]\n",
    "filtered_apps"
   ]
  },
  {
   "cell_type": "code",
   "execution_count": null,
   "id": "6b909903",
   "metadata": {},
   "outputs": [],
   "source": [
    "filtered_apps.info()"
   ]
  },
  {
   "cell_type": "code",
   "execution_count": null,
   "id": "26c02cbf",
   "metadata": {
    "scrolled": true
   },
   "outputs": [],
   "source": [
    "# Filter 2: Revenue > $10,000\n",
    "filtered_apps = filtered_apps[filtered_apps['Revenue'] > 10_000]\n",
    "filtered_apps"
   ]
  },
  {
   "cell_type": "markdown",
   "id": "9ac8777c",
   "metadata": {},
   "source": [
    "#### As we can see from the dataset, the current existing version column contains the float values as well as string values. So before applying filter on it, we need to convert the string value into pure float values."
   ]
  },
  {
   "cell_type": "code",
   "execution_count": null,
   "id": "001e5a41",
   "metadata": {
    "scrolled": true
   },
   "outputs": [],
   "source": [
    "# Converting the 'Android Ver' column to numeric by extracting the numeric part\n",
    "filtered_apps['Android Ver'] = filtered_apps['Android Ver'].str.extract(r'(\\d+(\\.\\d+)?)')[0]"
   ]
  },
  {
   "cell_type": "code",
   "execution_count": null,
   "id": "60fc828e",
   "metadata": {},
   "outputs": [],
   "source": [
    "# Converting to numeric type\n",
    "filtered_apps['Android Ver'] = pd.to_numeric(filtered_apps['Android Ver'], errors='coerce')"
   ]
  },
  {
   "cell_type": "code",
   "execution_count": null,
   "id": "7ae28937",
   "metadata": {},
   "outputs": [],
   "source": [
    "# Filter 3: Android version > 4.0\n",
    "filtered_apps = filtered_apps[filtered_apps['Android Ver'] > 4.0]\n",
    "filtered_apps"
   ]
  },
  {
   "cell_type": "code",
   "execution_count": null,
   "id": "aa9678fa",
   "metadata": {
    "scrolled": true
   },
   "outputs": [],
   "source": [
    "# Filter 4: Size > 15M\n",
    "filtered_apps = filtered_apps[filtered_apps['Size'] > 15.0]\n",
    "\n",
    "# Filter 5: Content Rating == \"Everyone\"\n",
    "filtered_apps = filtered_apps[filtered_apps['Content Rating'] == 'Everyone']\n",
    "filtered_apps"
   ]
  },
  {
   "cell_type": "code",
   "execution_count": null,
   "id": "598263d7",
   "metadata": {
    "scrolled": true
   },
   "outputs": [],
   "source": [
    "# Filter 6: App name length <= 30 characters (including spaces and special characters)\n",
    "filtered_apps = filtered_apps[filtered_apps['App'].str.len() <=30]\n",
    "filtered_apps"
   ]
  },
  {
   "cell_type": "code",
   "execution_count": null,
   "id": "92688bbd",
   "metadata": {},
   "outputs": [],
   "source": [
    "# -------------------- Selecting Top 3 Categories --------------------\n",
    "top_categories = (\n",
    "    filtered_apps.groupby('Category')['Installs']\n",
    "    .sum()\n",
    "    .nlargest(3)\n",
    "    .index\n",
    ")\n",
    "filtered_apps = filtered_apps[filtered_apps['Category'].isin(top_categories)]"
   ]
  },
  {
   "cell_type": "code",
   "execution_count": null,
   "id": "a589a5b8",
   "metadata": {},
   "outputs": [],
   "source": [
    "# -------------------- Computing Averages --------------------\n",
    "# Calculating average installs and revenue for free and paid apps\n",
    "comparison_data = filtered_apps.groupby(['Category', 'Type'])[['Installs', 'Revenue']].mean().reset_index()"
   ]
  },
  {
   "cell_type": "code",
   "execution_count": null,
   "id": "723357ce",
   "metadata": {},
   "outputs": [],
   "source": [
    "# -------------------- Creating the Dual-Axis Chart --------------------\n",
    "# Ensuring that the chart is displayed only between 1 PM and 2 PM IST\n",
    "start_time = time(13, 0)  \n",
    "end_time = time(14, 0)\n",
    "\n",
    "# Getting current time in IST\n",
    "current_time_utc = datetime.utcnow()\n",
    "current_time_ist = (current_time_utc + pd.Timedelta(hours=5, minutes=30)).time()"
   ]
  },
  {
   "cell_type": "code",
   "execution_count": null,
   "id": "48538903",
   "metadata": {},
   "outputs": [],
   "source": [
    "if start_time <= current_time_ist <= end_time:\n",
    "    fig_13= go.Figure()\n",
    "\n",
    "    # Adding bar traces for average revenue\n",
    "    for c in top_categories:\n",
    "        fig_13.add_trace(\n",
    "            go.Bar(\n",
    "                x=comparison_data[comparison_data['Category'] == c]['Type'],\n",
    "                y=comparison_data[comparison_data['Category'] == c]['Revenue'],\n",
    "                name=f\"{c} Revenue\",\n",
    "                yaxis=\"y1\",  # Mapping to the first y-axis\n",
    "                text=comparison_data[comparison_data['Category'] == c]['Revenue'],\n",
    "                textposition='auto'\n",
    "            )\n",
    "        )\n",
    "    \n",
    "    # Adding line traces for average installs\n",
    "    for c1 in top_categories:\n",
    "        fig_13.add_trace(\n",
    "            go.Scatter(\n",
    "                x=comparison_data[comparison_data['Category'] ==c1]['Type'],\n",
    "                y=comparison_data[comparison_data['Category'] == c1]['Installs'],\n",
    "                name=f\"{c1} Installs\",\n",
    "                yaxis=\"y2\", # Mapping to the second y-axis\n",
    "                mode=\"lines+markers\"\n",
    "            )\n",
    "        )\n",
    "\n",
    "    # Layout configuration\n",
    "    fig_13.update_layout(\n",
    "        title=\"Average Installs vs Revenue for Free vs Paid Apps (Top 3 Categories)\",\n",
    "        xaxis=dict(title=\"App Type (Free/Paid)\"),\n",
    "        yaxis=dict(\n",
    "            title=\"Average Revenue (in USD)\",\n",
    "            titlefont=dict(color=\"blue\"),\n",
    "            tickfont=dict(color=\"blue\"),\n",
    "        ),\n",
    "        yaxis2=dict(\n",
    "            title=\"Average Installs (in Millions)\",\n",
    "            titlefont=dict(color=\"green\"),\n",
    "            tickfont=dict(color=\"green\"),\n",
    "            overlaying=\"y\",\n",
    "            side=\"right\",\n",
    "        ),\n",
    "        legend=dict(x=0.1, y=1.1),\n",
    "        barmode=\"group\"\n",
    "    )\n",
    "    # Saving chart as HTML file\n",
    "    fig_13.write_html(\"dual_axis_chart_T5.html\")\n",
    "\n",
    "# Opening the chart in the browser\n",
    "    webbrowser.open(\"dual_axis_chart_T5.html\")\n",
    "else:\n",
    "    print(\"Chart is not available outside the time range (1 PM - 2 PM IST).\")"
   ]
  },
  {
   "cell_type": "markdown",
   "id": "a58cd718",
   "metadata": {},
   "source": [
    "#### Task-6: Grouped bar chart to compare the average rating and total review count for the top 10 app categories\n",
    "By filtering apps based on the following conditions:\n",
    "1. Average rating >= 4.0\n",
    "2. Size >= 10 MB\n",
    "3. Last update should be in January"
   ]
  },
  {
   "cell_type": "markdown",
   "id": "45870aa3",
   "metadata": {},
   "source": [
    "### The Last Updated column in the dataset does not contain string values. Instead, it may contain datetime objects or other data types.\n",
    "### For the 3rd condition to be applicable, the data-type of the 'Last-Updated' column should be changed from datetime to string type.  \n"
   ]
  },
  {
   "cell_type": "code",
   "execution_count": null,
   "id": "990e9c14",
   "metadata": {},
   "outputs": [],
   "source": [
    "print(apps['Last Updated'].dtype)"
   ]
  },
  {
   "cell_type": "code",
   "execution_count": null,
   "id": "545d6025",
   "metadata": {},
   "outputs": [],
   "source": [
    "# Adding a extra \"Month\" column extracting from \"Last Updated\" column for filtering according to the task\n",
    "apps['Month'] = apps['Last Updated'].dt.month"
   ]
  },
  {
   "cell_type": "code",
   "execution_count": null,
   "id": "06cf6c42",
   "metadata": {
    "scrolled": true
   },
   "outputs": [],
   "source": [
    "# Applying filters\n",
    "filtered_apps_T6 = apps[\n",
    "    (apps['Rating'] >= 4.0) & (apps['Size'] >= 10.0) & (apps['Month'] == 1)\n",
    "]\n",
    "filtered_apps_T6"
   ]
  },
  {
   "cell_type": "code",
   "execution_count": null,
   "id": "ffe316c5",
   "metadata": {},
   "outputs": [],
   "source": [
    "# Getting the top 10 categories by number of installs\n",
    "top_cat_T6= (\n",
    "    filtered_apps_T6.groupby('Category')['Installs']\n",
    "    .sum()\n",
    "    .nlargest(10)\n",
    "    .index\n",
    ")\n",
    "top_cat_T6"
   ]
  },
  {
   "cell_type": "code",
   "execution_count": null,
   "id": "8b9139d9",
   "metadata": {
    "scrolled": true
   },
   "outputs": [],
   "source": [
    "# Now that we have top 10 categories based on the no. of Installs done, moving with filtering the apps based on it.\n",
    "filtered_apps_T6 = filtered_apps_T6[filtered_apps_T6['Category'].isin(top_cat_T6)]\n",
    "filtered_apps_T6"
   ]
  },
  {
   "cell_type": "code",
   "execution_count": null,
   "id": "d3c2f519",
   "metadata": {
    "scrolled": false
   },
   "outputs": [],
   "source": [
    "# Calculating average rating and total review counts for each category\n",
    "comp_T6 = (\n",
    "    filtered_apps_T6.groupby('Category')[['Rating', 'Reviews']]\n",
    "    .agg({'Rating': 'mean', 'Reviews': 'sum'})\n",
    "    .reset_index()\n",
    ")\n",
    "comp_T6"
   ]
  },
  {
   "cell_type": "code",
   "execution_count": null,
   "id": "50c4f45a",
   "metadata": {},
   "outputs": [],
   "source": [
    "# -------------------- Now creating the Grouped Bar Chart --------------------\n",
    "# Ensuring that the chart is displayed only between 3 PM and 5 PM IST\n",
    "start_T6 = time(15, 0)  \n",
    "end_T6 = time(17, 0)\n",
    "\n",
    "current_time_T6 = datetime.utcnow()\n",
    "current_time_T6 = (current_time_T6+ pd.Timedelta(hours=5, minutes=30)).time()"
   ]
  },
  {
   "cell_type": "code",
   "execution_count": null,
   "id": "3edbbcc9",
   "metadata": {},
   "outputs": [],
   "source": [
    "if start_T6  <= current_time_T6  <= end_T6:\n",
    "    \n",
    "    fig_14 = go.Figure()\n",
    "\n",
    "    # Adding bar trace for average rating\n",
    "    fig_14.add_trace(\n",
    "        go.Bar(\n",
    "            x=comp_T6['Category'],\n",
    "            y=comp_T6['Rating'],\n",
    "            name=\"Average Rating\",\n",
    "            text=comp_T6['Rating'],\n",
    "            textposition='auto',\n",
    "            marker_color='purple',\n",
    "            opacity=0.7\n",
    "        )\n",
    "    )\n",
    "\n",
    "    # Adding bar trace for total review counts\n",
    "    fig_14.add_trace(\n",
    "        go.Bar(\n",
    "            x=comp_T6['Category'],\n",
    "            y=comp_T6['Reviews'],\n",
    "            name=\"Total Review Count\",\n",
    "            text=comp_T6['Reviews'],\n",
    "            textposition='auto',\n",
    "            marker_color='orange',\n",
    "            opacity=0.7\n",
    "        )\n",
    "    )\n",
    "\n",
    "    fig_14.update_layout(\n",
    "        title=\"Comparison of Average Rating and Total Review Counts (Top 10 Categories by Installs)\",\n",
    "        xaxis=dict(title=\"App Category\", tickangle=-45),\n",
    "        yaxis=dict(title=\"Average Rating\"),\n",
    "        yaxis2=dict(\n",
    "            title=\"Total Review Count\",\n",
    "            overlaying='y',\n",
    "            side='right'\n",
    "        ),\n",
    "        legend=dict(x=0.1, y=1.1),\n",
    "        barmode=\"group\"\n",
    "    )\n",
    "\n",
    "    # Saving chart as HTML file\n",
    "    fig_14.write_html(\"grouped_bar_chart_T6.html\")\n",
    "\n",
    "    # Opening the chart in the browser\n",
    "    webbrowser.open(\"grouped_bar_chart_T6.html\")\n",
    "else:\n",
    "    print(\"Chart is not available outside the time range (3 PM - 5 PM IST).\")"
   ]
  },
  {
   "cell_type": "markdown",
   "id": "291ec4e4",
   "metadata": {},
   "source": [
    "#### Task 7: Correlation with Time Restrictions Key App Metrics Heatmap\n",
    "\n",
    "Step 1: To filter the data by:\n",
    "\n",
    "1. Including only apps and updating within the last year.\n",
    "2. Having at least 100,000 installs.\n",
    "3. Having more than 1,000 reviews.\n",
    "4. Belonging to genres not starting with the characters A, F, E, G, I, or K.\n",
    "\n",
    "Step 2: Using the above filtered data to compute the correlation matrix for installs, ratings, and review counts.\n",
    "Step 3: Generating the Heatmap by:\n",
    "\n",
    "1. Visualizing the correlation matrix\n",
    "2. Set time conditions to ensure the heatmap is displayed only between 2 PM IST and 4 PM IST."
   ]
  },
  {
   "cell_type": "markdown",
   "id": "6582ea49",
   "metadata": {},
   "source": [
    "### To include the apps which are only updated within the last year, we need to find the \"Latest Date\" in the 'Last Updated' column of apps dataset because -\n",
    "\n",
    "1. If we use - \"one_year_ago = current_date - pd.DateOffset(year=1) ; latest_apps = df[df['Last Updated'] >= one_year_ago]\" , then it shows empty rows, which typically means there are no app records in the last year according to the current ongoing year.\n",
    "2. We need to ensure the filter logic for \"updated within the last year\" considers the dataset's latest date as the reference instead of the current system date."
   ]
  },
  {
   "cell_type": "code",
   "execution_count": null,
   "id": "5a98d44c",
   "metadata": {},
   "outputs": [],
   "source": [
    "# Checking the age of apps data\n",
    "print(\"Earliest date in 'Last Updated':\", apps['Last Updated'].min())\n",
    "print(\"Latest date in 'Last Updated':\", apps['Last Updated'].max())"
   ]
  },
  {
   "cell_type": "code",
   "execution_count": null,
   "id": "b28adc3a",
   "metadata": {},
   "outputs": [],
   "source": [
    "# Now defining the initial reference date (latest date as given in apps dataset)\n",
    "latest_date = pd.to_datetime('2018-08-08')\n",
    "one_year_ago = latest_date - pd.DateOffset(years=1)"
   ]
  },
  {
   "cell_type": "code",
   "execution_count": null,
   "id": "f312d42e",
   "metadata": {
    "scrolled": true
   },
   "outputs": [],
   "source": [
    "# Filtering the data\n",
    "filtered_data_T7 = apps[\n",
    "    (apps['Last Updated'] >= one_year_ago) &  # Updated within the last year\n",
    "    (apps['Installs'] >= 100000) &           # At least 100,000 installs\n",
    "    (apps['Reviews'] > 1000) &         # Reviews count > 1k\n",
    "    (~apps['Genres'].str.startswith(tuple(\"AFEGIK\"), na=False))  # Genres filter\n",
    "]\n",
    "filtered_data_T7"
   ]
  },
  {
   "cell_type": "code",
   "execution_count": null,
   "id": "a3a84df7",
   "metadata": {},
   "outputs": [],
   "source": [
    "# Computing the correlation matrix\n",
    "corr_matrix= filtered_data_T7[['Installs', 'Rating', 'Reviews']].corr()\n",
    "corr_matrix"
   ]
  },
  {
   "cell_type": "code",
   "execution_count": null,
   "id": "cd5c817a",
   "metadata": {},
   "outputs": [],
   "source": [
    "# Generating the heatmap only during 2 PM to 4 PM IST\n",
    "from datetime import datetime, timedelta, timezone\n",
    "\n",
    "# Getting the current time in IST\n",
    "curr_time = datetime.now(timezone(timedelta(hours=5, minutes=30)))\n",
    "start = curr_time.replace(hour=14, minute=0, second=0, microsecond=0)\n",
    "end = curr_time.replace(hour=16, minute=0, second=0, microsecond=0)"
   ]
  },
  {
   "cell_type": "code",
   "execution_count": null,
   "id": "70391d5a",
   "metadata": {},
   "outputs": [],
   "source": [
    "# Checking if within the time range\n",
    "if start<= curr_time <= end:\n",
    "    # Generating the heatmap\n",
    "    fig_15 = go.Figure(\n",
    "        data=go.Heatmap(\n",
    "            z=corr_matrix.values,\n",
    "            x=corr_matrix.columns,\n",
    "            y=corr_matrix.columns,\n",
    "            colorscale='Viridis',\n",
    "            colorbar=dict(title=\"Correlation\"),\n",
    "        )\n",
    "    )\n",
    "\n",
    "    # Update layout\n",
    "    fig_15.update_layout(\n",
    "        title=\"Correlation Matrix (Installs, Ratings, and Reviews Count)-Task-7\",\n",
    "        xaxis=dict(title=\"Metrics\"),\n",
    "        yaxis=dict(title=\"Metrics\"),\n",
    "        width=800,\n",
    "        height=600,\n",
    "    )\n",
    "\n",
    "    # Saving the heatmap as an HTML file\n",
    "    heatmap_filename = \"correlation_heatmap_T7.html\"\n",
    "    fig_15.write_html(heatmap_filename)\n",
    "\n",
    "    # Opening the HTML file in the default web browser\n",
    "    webbrowser.open(heatmap_filename)\n",
    "else:\n",
    "    print(\"Heatmap is not available outside the time range (2 PM - 4 PM IST).\")"
   ]
  },
  {
   "cell_type": "markdown",
   "id": "026382b7",
   "metadata": {},
   "source": [
    "#### Task 8: Violin Plot Visualisation\n",
    "\n",
    "Goal:\n",
    "To obtain insights into category-specific rating patterns for apps that satisfy predetermined criteria, use a violin plot to visualise the distribution of ratings across several app categories, concentrating on particular filtered data.\n",
    "\n",
    "Objectives:\n",
    "\n",
    "1. To analyze the distribution of ratings for app categories with significant representation (i.e. more than 50 apps).\n",
    "2. To filter on apps with ratings below 4.0 to identify patterns in underperforming apps.\n",
    "3. To exclude apps with fewer than 10 reviews by considering only apps with sufficient user feedback.\n",
    "4. To restrict the data to contain apps whose names contain the letter \"C\",\n",
    "5. To enable the graph only between 4 PM IST to 6 PM IST.\n"
   ]
  },
  {
   "cell_type": "code",
   "execution_count": null,
   "id": "11e0ef47",
   "metadata": {},
   "outputs": [],
   "source": [
    "# Ensuring 'Reviews Count' and 'Rating' columns are numeric only.\n",
    "apps['Reviews'] = pd.to_numeric(apps['Reviews'], errors='coerce')\n",
    "apps['Rating'] = pd.to_numeric(apps['Rating'], errors='coerce')\n",
    "apps.info()"
   ]
  },
  {
   "cell_type": "code",
   "execution_count": null,
   "id": "323c0721",
   "metadata": {},
   "outputs": [],
   "source": [
    "# Filter 1: Categories with more than 50 apps\n",
    "cat_cnt = apps['Category'].value_counts()\n",
    "cat_cnt"
   ]
  },
  {
   "cell_type": "code",
   "execution_count": null,
   "id": "1a64a099",
   "metadata": {},
   "outputs": [],
   "source": [
    "cat_50 = cat_cnt[cat_cnt > 50].index\n",
    "cat_50.value_counts()"
   ]
  },
  {
   "cell_type": "code",
   "execution_count": null,
   "id": "fe8af13f",
   "metadata": {
    "scrolled": true
   },
   "outputs": [],
   "source": [
    "filtered_data_T8= apps[apps['Category'].isin(cat_50)]\n",
    "filtered_data_T8"
   ]
  },
  {
   "cell_type": "code",
   "execution_count": null,
   "id": "178743d0",
   "metadata": {
    "scrolled": true
   },
   "outputs": [],
   "source": [
    "# Filter 2: App names containing the letter \"C/c\"\n",
    "filtered_data_T8 = filtered_data_T8[filtered_data_T8['App'].str.contains('C', case=False, na=False)] # case=False denotes the case insensitivity of letter\n",
    "filtered_data_T8"
   ]
  },
  {
   "cell_type": "code",
   "execution_count": null,
   "id": "0ab92e14",
   "metadata": {
    "scrolled": true
   },
   "outputs": [],
   "source": [
    "# Filter 3: Excluding the apps with < 10 reviews\n",
    "filtered_data_T8 = filtered_data_T8[filtered_data_T8['Reviews'] >= 10]\n",
    "filtered_data_T8"
   ]
  },
  {
   "cell_type": "code",
   "execution_count": null,
   "id": "a6ff1dde",
   "metadata": {
    "scrolled": true
   },
   "outputs": [],
   "source": [
    "# Filter 4: Including the apps with a rating < 4.0 only\n",
    "filtered_data_T8 = filtered_data_T8[filtered_data_T8['Rating'] < 4.0]\n",
    "filtered_data_T8"
   ]
  },
  {
   "cell_type": "code",
   "execution_count": null,
   "id": "2e20ef90",
   "metadata": {},
   "outputs": [],
   "source": [
    "# Getting the current time in IST\n",
    "current_time = datetime.now(timezone(timedelta(hours=5, minutes=30)))\n",
    "start_time = current_time.replace(hour=16, minute=0, second=0, microsecond=0)\n",
    "end_time = current_time.replace(hour=18, minute=0, second=0, microsecond=0)"
   ]
  },
  {
   "cell_type": "code",
   "execution_count": null,
   "id": "802ed40e",
   "metadata": {},
   "outputs": [],
   "source": [
    "# Generating and displaying the violin plot only if within the specified time range\n",
    "if start_time <= current_time <= end_time:\n",
    "    # Creating the violin plot\n",
    "    fig_16= px.violin(\n",
    "        filtered_df,\n",
    "        x='Category',\n",
    "        y='Rating',\n",
    "        box=True,  # Adding a box plot within the violin plot\n",
    "        points=\"all\",  \n",
    "        title=\"Distribution of Ratings by App Category (Filtered Data)- Task-8\",\n",
    "        labels={'Rating': 'App Ratings', 'Category': 'App Category'},\n",
    "        color_discrete_sequence=[\"#636EFA\"],  \n",
    "    )\n",
    "\n",
    "    # Customizing the layout\n",
    "    fig_16.update_layout(\n",
    "        xaxis_title=\"App Category\",\n",
    "        yaxis_title=\"App Ratings\",\n",
    "        xaxis=dict(tickangle=-45),\n",
    "        height=600,\n",
    "        width=900,\n",
    "    )\n",
    "\n",
    "    # Save the plot as an HTML file\n",
    "    plot_filename = \"violin_plot_T8.html\"\n",
    "    fig_16.write_html(plot_filename)\n",
    "\n",
    "    # Opening the plot in the default web browser\n",
    "    webbrowser.open(plot_filename)\n",
    "else:\n",
    "    print(\"Violin plot is not available outside the time range (4 PM - 6 PM IST).\")"
   ]
  },
  {
   "cell_type": "markdown",
   "id": "85bd5efd",
   "metadata": {},
   "source": [
    "#### Task 9: Bubble Chart Creation\n",
    "\n",
    "Goal: To show a bubble chart and finding out the connection between average ratings and app size.\n",
    "\n",
    "To add the apps only if they fulfil these below requirements:\n",
    "1. Rating greater than a 3.5.\n",
    "2. the apps should be of the \"Games\" category.\n",
    "3. have over 50,000 installations.\n",
    "4. to restrict this chart's display to the hours of 5 PM IST to 7 PM IST. The chart won't show up on the dashboard if it is viewed outside of this window.\n"
   ]
  },
  {
   "cell_type": "code",
   "execution_count": null,
   "id": "851586e4",
   "metadata": {},
   "outputs": [],
   "source": [
    "apps.info()"
   ]
  },
  {
   "cell_type": "code",
   "execution_count": null,
   "id": "17d6078f",
   "metadata": {
    "scrolled": true
   },
   "outputs": [],
   "source": [
    "# Filter 1: Rating > 3.5\n",
    "filtered_data_T9 = apps[apps['Rating'] > 3.5]\n",
    "filtered_data_T9"
   ]
  },
  {
   "cell_type": "code",
   "execution_count": null,
   "id": "7072ca61",
   "metadata": {
    "scrolled": true
   },
   "outputs": [],
   "source": [
    "#Listing all the castegories present along with their counts before applying filter-2\n",
    "\n",
    "# Count of apps in each category (original apps dataset)\n",
    "category_counts_original = apps['Category'].value_counts()\n",
    "print(\"App counts per category in the original dataset:\")\n",
    "print(category_counts_original)\n",
    "\n",
    "# Count of apps in each category (after applying filter-1)\n",
    "category_counts_filtered = filtered_data_T9['Category'].value_counts()\n",
    "print(\"\\nApp counts per category in the filtered dataset after Filter 1:\")\n",
    "print(category_counts_filtered)"
   ]
  },
  {
   "cell_type": "code",
   "execution_count": null,
   "id": "bb4cd8e9",
   "metadata": {
    "scrolled": true
   },
   "outputs": [],
   "source": [
    "# Filter 2: Category is \"GAME\"\n",
    "filtered_data_T9 = filtered_data_T9[filtered_data_T9['Category'] == 'GAME']\n",
    "filtered_data_T9 "
   ]
  },
  {
   "cell_type": "code",
   "execution_count": null,
   "id": "dd13a39a",
   "metadata": {
    "scrolled": true
   },
   "outputs": [],
   "source": [
    "# Filter 3: Installs > 50,000\n",
    "filtered_data_T9 = filtered_data_T9 [filtered_data_T9 ['Installs'] > 50000]\n",
    "filtered_data_T9"
   ]
  },
  {
   "cell_type": "code",
   "execution_count": null,
   "id": "91b9ee51",
   "metadata": {},
   "outputs": [],
   "source": [
    "# Time-based Display\n",
    "start_time = time(17, 0) \n",
    "end_time = time(19, 0)   \n",
    "current_time = datetime.now().time()"
   ]
  },
  {
   "cell_type": "code",
   "execution_count": null,
   "id": "500a3fbb",
   "metadata": {},
   "outputs": [],
   "source": [
    "# Displaying Bubble Chart only within that above time range\n",
    "if start_time <= current_time <= end_time:\n",
    "    #Creating the Bubble Chart\n",
    "    fig_17 = px.scatter(\n",
    "        filtered_data_T9,\n",
    "        x='Size',\n",
    "        y='Rating',\n",
    "        size='Installs',\n",
    "        color='Installs',\n",
    "        hover_name='App',\n",
    "        title=\"Bubble Chart: Relationship between App Size and Ratings (Games Category)\",\n",
    "        labels={'Size_MB': 'App Size (MB)', 'Rating': 'Average Rating', 'Installs': 'Number of Installs'},\n",
    "    )\n",
    "\n",
    "    # Updating the layout for better visualization\n",
    "    fig_17.update_layout(\n",
    "        xaxis_title=\"App Size (in MB)\",\n",
    "        yaxis_title=\"Average Rating\",\n",
    "        coloraxis_colorbar=dict(title=\"Installs\"),\n",
    "        template=\"plotly_white\",\n",
    "    )\n",
    "    \n",
    "    # Saving the chart as an HTML file\n",
    "    html_file = \"bubble_chart_T9.html\"\n",
    "    fig.write_html(html_file)\n",
    "    \n",
    "    # Opening the chart in a web browser\n",
    "    webbrowser.open(html_file)\n",
    "else:\n",
    "    print(\"Bubble chart is not available outside the time range (5 PM - 7 PM IST).\")"
   ]
  },
  {
   "cell_type": "markdown",
   "id": "644bc2a5",
   "metadata": {},
   "source": [
    "#### Task 10: Growth Highlighting Time Series Line Chart\n",
    "\n",
    "Goal:\n",
    "To visualize the trend of total installs over time, segmented by app category, and highlight periods of significant growth (install increases >20% month-over-month).\n",
    "\n",
    "1. Creating a time series chart showing the trend of total installs for each app category.\n",
    "2. Defining \"significant growth\" as a month-over-month increase exceeding 20%.\n",
    "3. To include only apps with Content Rating = \"Teen\", app name starting with the letter 'E', Installs > 10,000.\n",
    "4. The graph should only be visible between 6 PM IST and 9 PM IST."
   ]
  },
  {
   "cell_type": "code",
   "execution_count": null,
   "id": "ca2f0216",
   "metadata": {
    "scrolled": true
   },
   "outputs": [],
   "source": [
    "filtered_data_T10 = apps[(apps['Content Rating'] == 'Teen')]\n",
    "filtered_data_T10"
   ]
  },
  {
   "cell_type": "code",
   "execution_count": null,
   "id": "560f53c4",
   "metadata": {
    "scrolled": true
   },
   "outputs": [],
   "source": [
    "filtered_data_T10 =filtered_data_T10[(filtered_data_T10['App'].str.startswith('E'))]\n",
    "filtered_data_T10"
   ]
  },
  {
   "cell_type": "code",
   "execution_count": null,
   "id": "afabfb97",
   "metadata": {
    "scrolled": true
   },
   "outputs": [],
   "source": [
    "filtered_data_T10 = filtered_data_T10[(filtered_data_T10['Installs'] > 10000)]\n",
    "filtered_data_T10"
   ]
  },
  {
   "cell_type": "code",
   "execution_count": null,
   "id": "4c81181b",
   "metadata": {
    "scrolled": true
   },
   "outputs": [],
   "source": [
    "# Extract year and month\n",
    "filtered_data_T10['YearMonth'] = filtered_data_T10['Last Updated'].dt.to_period('M')\n",
    "filtered_data_T10"
   ]
  },
  {
   "cell_type": "code",
   "execution_count": null,
   "id": "3c67fd0d",
   "metadata": {},
   "outputs": [],
   "source": [
    "# Step 3: Aggregating the installs by category and month\n",
    "installs = (\n",
    "    filtered_data_T10.groupby(['YearMonth', 'Category'])['Installs']\n",
    "    .sum()\n",
    "    .reset_index()\n",
    "    .sort_values('YearMonth')\n",
    ")"
   ]
  },
  {
   "cell_type": "code",
   "execution_count": null,
   "id": "ee515a02",
   "metadata": {},
   "outputs": [],
   "source": [
    "# Step 4: Calculating the Month-over-Month Growth\n",
    "installs['Pct_Change'] = (\n",
    "    installs.groupby('Category')['Installs']\n",
    "    .pct_change() * 100\n",
    ")"
   ]
  },
  {
   "cell_type": "code",
   "execution_count": null,
   "id": "0ac4d723",
   "metadata": {
    "scrolled": true
   },
   "outputs": [],
   "source": [
    "# Step 5: Adding a 'Significant Growth' flag\n",
    "installs['Significant Growth'] = installs['Pct_Change'] > 20\n",
    "installs"
   ]
  },
  {
   "cell_type": "markdown",
   "id": "5966a7f4",
   "metadata": {},
   "source": [
    "#### Base on the above output we can see that -\n",
    "1. The 'YearMonth' column offers a clear chronological sequence for monitoring app install trends and is well-structured.\n",
    "2. The monthly percentage change in installs is appropriately shown in the Pct_Change column. Changes, both positive and bad, are accurately documented.\n",
    "3. The Significant Growth column correctly flags periods where the percentage increase in installs exceeds 20%.\n",
    "4. Instances (such as first entries for categories) where the Pct_Change cannot be computed because of missing prior data are suitably denoted as NaN.\n",
    "5. The output accurately depicts key growth periods, including:\n",
    "\n",
    "a. Growth rate for 2017-04 (GAME): 1900%.\n",
    "b. FAMILY 2018-05: 2000% growth.\n",
    "c. Family: 9923.08% increase in 2018–07."
   ]
  },
  {
   "cell_type": "code",
   "execution_count": null,
   "id": "8ba1eda7",
   "metadata": {},
   "outputs": [],
   "source": [
    "installs.info()"
   ]
  },
  {
   "cell_type": "markdown",
   "id": "0b4fcf25",
   "metadata": {},
   "source": [
    "#### The 'YearMonth' column in your DataFrame is of type Period, which Plotly cannot serialize directly for use in a chart.\n",
    "#### So, we need to convert the Period objects in the YearMonth column to a string or datetime format that Plotly can handle."
   ]
  },
  {
   "cell_type": "markdown",
   "id": "5dafb019",
   "metadata": {},
   "source": [
    "#### Converting the Data Type of 'YearMonth' column from period to datetime format."
   ]
  },
  {
   "cell_type": "code",
   "execution_count": null,
   "id": "9db66f18",
   "metadata": {},
   "outputs": [],
   "source": [
    "#Before creating the chart, converting the YearMonth column to a string format first\n",
    "installs['YearMonth'] = installs['YearMonth'].astype(str)\n",
    "installs.info()"
   ]
  },
  {
   "cell_type": "code",
   "execution_count": null,
   "id": "7b47002a",
   "metadata": {},
   "outputs": [],
   "source": [
    "#There are values in the 'YearMonth' column that are not in the correct YYYY-MM format. In particular the string may have extra text at the end.\n",
    "#Checking the actual values in the YearMonth column to understand the format.\n",
    "print(installs['YearMonth'].unique())"
   ]
  },
  {
   "cell_type": "code",
   "execution_count": null,
   "id": "0ef5484b",
   "metadata": {},
   "outputs": [],
   "source": [
    "# If YearMonth contains any unwanted text, we can clean it by extracting only the relevant part of the string-\n",
    "# installs['YearMonth'] = installs['YearMonth'].str[:7]"
   ]
  },
  {
   "cell_type": "code",
   "execution_count": null,
   "id": "0e5ec724",
   "metadata": {},
   "outputs": [],
   "source": [
    "# After cleaning, converting the 'YearMonth' to the datetime format finally.\n",
    "\n",
    "installs['YearMonth'] = pd.to_datetime(installs['YearMonth'], format='%Y-%m', errors='coerce')\n",
    "installs.info()"
   ]
  },
  {
   "cell_type": "code",
   "execution_count": null,
   "id": "34bde1d9",
   "metadata": {},
   "outputs": [],
   "source": [
    "# Step 5: Plot the Time Series Chart\n",
    "current_time = datetime.now().time()\n",
    "start_time = datetime.strptime(\"18:00\", \"%H:%M\").time()\n",
    "end_time = datetime.strptime(\"21:00\", \"%H:%M\").time()"
   ]
  },
  {
   "cell_type": "code",
   "execution_count": null,
   "id": "60f5284b",
   "metadata": {},
   "outputs": [],
   "source": [
    "if start_time <= current_time <= end_time:\n",
    "    # Creating the line chart with Plotly\n",
    "    fig_18 = px.line(\n",
    "        installs,\n",
    "        x='YearMonth',\n",
    "        y='Installs',\n",
    "        color='Category',\n",
    "        line_group='Category',\n",
    "        title=\"Trend of Total Installs Over Time (Teen, Apps Starting with 'E')\",\n",
    "        labels={'YearMonth': 'Month-Year', 'Installs': 'Total Installs', 'Category': 'App Category'},\n",
    "    )\n",
    "\n",
    "    # Highlighting significant growth areas by adding filled areas\n",
    "    for category in installs['Category'].unique():\n",
    "        category_data = installs[(installs['Category'] == category) & (installs['Significant Growth'])]\n",
    "        fig_18.add_scatter(\n",
    "            x=category_data['YearMonth'],\n",
    "            y=category_data['Installs'],\n",
    "            fill='tozeroy',\n",
    "            mode='lines',\n",
    "            name=f\"Significant Growth: {category}\",\n",
    "            opacity=0.3\n",
    "        )\n",
    "\n",
    "    # Updating the layout for better visualization\n",
    "    fig_18.update_layout(\n",
    "        xaxis_title=\"Month-Year\",\n",
    "        yaxis_title=\"Total Installs\",\n",
    "        template=\"plotly_white\",\n",
    "        legend_title=\"App Categories\",\n",
    "    )\n",
    "\n",
    "    # Saving the chart as an HTML file\n",
    "    html_file = \"time_series_T10.html\"\n",
    "    fig_18.write_html(html_file)\n",
    "\n",
    "    # Opening the chart in a web browser\n",
    "    webbrowser.open(html_file)\n",
    "else:\n",
    "    print(\"Time Series Chart is not available outside the time range (6 PM - 9 PM IST).\")"
   ]
  },
  {
   "cell_type": "code",
   "execution_count": null,
   "id": "31458109",
   "metadata": {},
   "outputs": [],
   "source": [
    "import webbrowser\n",
    "\n",
    "# Saving the dashboard HTML content\n",
    "dashboard_filename = \"Final-Dashboard.html\"\n",
    "\n",
    "dashboard_html = \"\"\" \n",
    "<!DOCTYPE html>\n",
    "<html lang=\"en\">\n",
    "<head>\n",
    "    <meta charset=\"UTF-8\">\n",
    "    <meta name=\"viewport\" content=\"width=device-width, initial-scale=1.0\">\n",
    "    <title>Google Play Store Analytics Dashboard</title>\n",
    "    <style>\n",
    "        /* General Styles */\n",
    "        body {\n",
    "            font-family: 'Arial', sans-serif;\n",
    "            margin: 0;\n",
    "            padding: 0;\n",
    "            background-color: #121212;\n",
    "            color: white;\n",
    "            transition: background-color 0.5s, color 0.5s;\n",
    "            overflow-x: hidden;\n",
    "        }\n",
    "\n",
    "        /* Light Mode */\n",
    "        body.light-mode {\n",
    "            background-color: white;\n",
    "            color: black;\n",
    "        }\n",
    "\n",
    "        /* Header */\n",
    "        .header {\n",
    "            text-align: center;\n",
    "            padding: 20px;\n",
    "            background: linear-gradient(90deg, #34A853, #0F9D58);\n",
    "            color: white;\n",
    "            font-size: 24px;\n",
    "            font-weight: bold;\n",
    "            display: flex;\n",
    "            justify-content: center;\n",
    "            align-items: center;\n",
    "            gap: 15px;\n",
    "            position: relative;\n",
    "        }\n",
    "\n",
    "        .header img {\n",
    "            height: 50px;\n",
    "            cursor: pointer;\n",
    "            transition: transform 0.3s ease-in-out;\n",
    "        }\n",
    "\n",
    "        .light-mode .header {\n",
    "            background: linear-gradient(90deg, #ffcc00, #ff9900);\n",
    "        }\n",
    "\n",
    "        /* Toggle Mode Button */\n",
    "        .toggle-container {\n",
    "            position: absolute;\n",
    "            right: 20px;\n",
    "            top: 20px;\n",
    "            cursor: pointer;\n",
    "            display: flex;\n",
    "            align-items: center;\n",
    "            gap: 10px;\n",
    "        }\n",
    "\n",
    "        .toggle-icon {\n",
    "            width: 40px;\n",
    "            height: 40px;\n",
    "            transition: transform 0.3s ease-in-out;\n",
    "        }\n",
    "\n",
    "        .light-mode .toggle-icon {\n",
    "            transform: rotate(180deg);\n",
    "        }\n",
    "\n",
    "        /* Container */\n",
    "        .container {\n",
    "            display: flex;\n",
    "            flex-direction: column;\n",
    "            align-items: center;\n",
    "            padding: 20px;\n",
    "            width: 100%;\n",
    "        }\n",
    "\n",
    "        /* Plot Cards */\n",
    "        .plot-card {\n",
    "            width: 90%;\n",
    "            height: 600px;\n",
    "            background: #1E1E1E;\n",
    "            border-radius: 10px;\n",
    "            overflow: hidden;\n",
    "            position: relative;\n",
    "            transition: transform 0.3s ease, box-shadow 0.3s ease;\n",
    "            cursor: pointer;\n",
    "            margin-bottom: 30px;\n",
    "            box-shadow: 0px 5px 15px rgba(0, 0, 0, 0.3);\n",
    "        }\n",
    "\n",
    "        .light-mode .plot-card {\n",
    "            background: #f9f9f9;\n",
    "            color: black;\n",
    "        }\n",
    "\n",
    "        .plot-card:hover {\n",
    "            transform: scale(1.02);\n",
    "            box-shadow: 0px 10px 20px rgba(0, 0, 0, 0.4);\n",
    "        }\n",
    "        \n",
    "        /* Disabled Graphs */\n",
    "        .disabled {\n",
    "            background: #333 !important;\n",
    "            cursor: not-allowed;\n",
    "            color: #bbb;\n",
    "            text-align: center;\n",
    "            font-size: 20px;\n",
    "            padding: 50px;\n",
    "        }\n",
    "\n",
    "        .light-mode .disabled {\n",
    "            background: #e0e0e0;\n",
    "            color: #666;\n",
    "        }\n",
    "\n",
    "        /* Plot Titles */\n",
    "        .plot-title {\n",
    "            text-align: center;\n",
    "            font-size: 18px;\n",
    "            font-weight: bold;\n",
    "            padding: 10px;\n",
    "        }\n",
    "\n",
    "        /* Embed Graphs */\n",
    "        .plot-card embed {\n",
    "            width: 100%;\n",
    "            height: 100%;\n",
    "            border: none;\n",
    "        }\n",
    "\n",
    "        /* Responsive Design */\n",
    "        @media (max-width: 768px) {\n",
    "            .plot-card {\n",
    "                width: 100%;\n",
    "                height: 500px;\n",
    "            }\n",
    "        }\n",
    "    </style>\n",
    "    <script>\n",
    "        function openPlot(filename) {\n",
    "            window.open(filename, '_blank');\n",
    "        }\n",
    "\n",
    "        // Toggle Light/Dark Mode\n",
    "        function toggleMode() {\n",
    "            document.body.classList.toggle(\"light-mode\");\n",
    "            let modeIcon = document.getElementById(\"modeIcon\");\n",
    "\n",
    "            if (document.body.classList.contains(\"light-mode\")) {\n",
    "                localStorage.setItem(\"theme\", \"light\");\n",
    "                modeIcon.src = \"https://cdn-icons-png.flaticon.com/512/1164/1164954.png\"; // Light mode icon\n",
    "            } else {\n",
    "                localStorage.setItem(\"theme\", \"dark\");\n",
    "                modeIcon.src = \"https://cdn-icons-png.flaticon.com/512/747/747374.png\"; // Dark mode icon\n",
    "            }\n",
    "        }\n",
    "\n",
    "        // Load the theme from localStorage\n",
    "        window.onload = function () {\n",
    "            if (localStorage.getItem(\"theme\") === \"light\") {\n",
    "                document.body.classList.add(\"light-mode\");\n",
    "                document.getElementById(\"modeIcon\").src = \"https://cdn-icons-png.flaticon.com/512/1164/1164954.png\";\n",
    "            }\n",
    "        };\n",
    "    </script>\n",
    "</head>\n",
    "<body>\n",
    "    <div class=\"header\">\n",
    "        <img src=\"https://upload.wikimedia.org/wikipedia/commons/7/78/Google_Play_Store_badge_EN.svg\" alt=\"Google Play Store Logo\">\n",
    "        Google Play Store Review Analytics\n",
    "        <div class=\"toggle-container\" onclick=\"toggleMode()\">\n",
    "            <img id=\"modeIcon\" class=\"toggle-icon\" src=\"https://cdn-icons-png.flaticon.com/512/747/747374.png\" alt=\"Toggle Theme\">\n",
    "        </div>\n",
    "    </div>\n",
    "    <div class=\"container\">\n",
    "        <!-- Available Graphs -->\n",
    "        <div class=\"plot-card\" onclick=\"openPlot('sentiment_distribution_dashboard_T1.html')\">\n",
    "            <embed src=\"sentiment_distribution_dashboard_T1.html\">\n",
    "            <p class=\"plot-title\">Sentiment Distribution Analysis</p>\n",
    "        </div>\n",
    "        \n",
    "        <div class=\"plot-card\" onclick=\"openPlot('scatter_revenue_vs_installs_paid_apps_T3.html')\">\n",
    "            <embed src=\"scatter_revenue_vs_installs_paid_apps_T3.html\">\n",
    "            <p class=\"plot-title\">Revenue vs Installs (Paid Apps)</p>\n",
    "        </div>\n",
    "\n",
    "        <!-- Time-Restricted Graphs -->\n",
    "        <div class=\"plot-card disabled\">\n",
    "            <p class=\"plot-title\">Choropleth Map (Available 6 PM - 8 PM)</p>\n",
    "        </div>\n",
    "        <div class=\"plot-card disabled\">\n",
    "            <p class=\"plot-title\">Dual Axis Chart (Available 1 PM - 2 PM)</p>\n",
    "        </div>\n",
    "        <div class=\"plot-card disabled\">\n",
    "            <p class=\"plot-title\">Grouped Bar Chart (Available 3 PM - 5 PM)</p>\n",
    "        </div>\n",
    "        <div class=\"plot-card disabled\">\n",
    "            <p class=\"plot-title\">Correlation Heatmap (Available 2 PM - 4 PM)</p>\n",
    "        </div>\n",
    "        <div class=\"plot-card disabled\">\n",
    "            <p class=\"plot-title\">Violin Plot (Available 4 PM - 6 PM)</p>\n",
    "        </div>\n",
    "        <div class=\"plot-card disabled\">\n",
    "            <p class=\"plot-title\">Bubble Chart (Available 5 PM - 7 PM)</p>\n",
    "        </div>\n",
    "        <div class=\"plot-card disabled\">\n",
    "            <p class=\"plot-title\">Time Series Chart (Available 6 PM - 9 PM)</p>\n",
    "        </div>\n",
    "    </div>\n",
    "</body>\n",
    "</html>\n",
    "\"\"\"\n",
    "\n",
    "# Saving the dashboard as an HTML file\n",
    "with open(dashboard_filename, \"w\", encoding=\"utf-8\") as file:\n",
    "    file.write(dashboard_html)\n",
    "\n",
    "# Opening the dashboard in the web browser\n",
    "webbrowser.open(dashboard_filename)\n",
    "\n",
    "print(\"Dashboard has been successfully opened in the browser.\")\n",
    "\n",
    "import webbrowser\n",
    "import http.server\n",
    "import socketserver\n",
    "import threading\n",
    "\n",
    "# Defining the port\n",
    "PORT = 8000\n",
    "\n",
    "# Function to start the server in a separate thread\n",
    "def start_server():\n",
    "    handler = http.server.SimpleHTTPRequestHandler\n",
    "    with socketserver.TCPServer((\"\", PORT), handler) as httpd:\n",
    "        print(f\"Serving at http://localhost:{PORT}\")\n",
    "        httpd.serve_forever()\n",
    "\n",
    "# Starting the server in the background\n",
    "threading.Thread(target=start_server, daemon=True).start()\n",
    "\n",
    "# Opening the dashboard in the browser\n",
    "webbrowser.open(f\"http://localhost:{PORT}/Final-Dashboard.html\")\n",
    "print(\"Dashboard is now accessible at http://localhost:8000/Final-Dashboard.html\")"
   ]
  },
  {
   "cell_type": "code",
   "execution_count": null,
   "id": "171b521f",
   "metadata": {},
   "outputs": [],
   "source": []
  },
  {
   "cell_type": "code",
   "execution_count": null,
   "id": "84989c3f",
   "metadata": {},
   "outputs": [],
   "source": []
  }
 ],
 "metadata": {
  "kernelspec": {
   "display_name": "Python 3 (ipykernel)",
   "language": "python",
   "name": "python3"
  },
  "language_info": {
   "codemirror_mode": {
    "name": "ipython",
    "version": 3
   },
   "file_extension": ".py",
   "mimetype": "text/x-python",
   "name": "python",
   "nbconvert_exporter": "python",
   "pygments_lexer": "ipython3",
   "version": "3.11.5"
  }
 },
 "nbformat": 4,
 "nbformat_minor": 5
}
